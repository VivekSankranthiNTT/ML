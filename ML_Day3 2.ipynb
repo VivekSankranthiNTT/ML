{
  "nbformat": 4,
  "nbformat_minor": 0,
  "metadata": {
    "colab": {
      "provenance": []
    },
    "kernelspec": {
      "name": "python3",
      "display_name": "Python 3"
    },
    "language_info": {
      "name": "python"
    }
  },
  "cells": [
    {
      "cell_type": "code",
      "execution_count": null,
      "metadata": {
        "colab": {
          "base_uri": "https://localhost:8080/"
        },
        "id": "ZkJ10K5o3YG6",
        "outputId": "04b3eedf-b920-4375-a24a-949269e0992f"
      },
      "outputs": [
        {
          "output_type": "stream",
          "name": "stdout",
          "text": [
            "day-3\n"
          ]
        }
      ],
      "source": [
        "print(\"day-3\")"
      ]
    },
    {
      "cell_type": "code",
      "source": [
        "#declare Touple\n",
        "t1=(1,2,3,4.4,\"ntt\")\n",
        "print (t1)\n",
        "print (type(t1))"
      ],
      "metadata": {
        "colab": {
          "base_uri": "https://localhost:8080/"
        },
        "id": "X7iqZMGh_RRA",
        "outputId": "045b412b-6441-40bc-86b8-91e6ef7a1d3d"
      },
      "execution_count": 3,
      "outputs": [
        {
          "output_type": "stream",
          "name": "stdout",
          "text": [
            "(1, 2, 3, 4.4, 'ntt')\n",
            "<class 'tuple'>\n"
          ]
        }
      ]
    },
    {
      "cell_type": "code",
      "source": [
        "#Contructor Tuple\n",
        "\n",
        "t2=tuple((1,2,3,4.4,\"ntt\"))\n",
        "print (t2)"
      ],
      "metadata": {
        "colab": {
          "base_uri": "https://localhost:8080/"
        },
        "id": "ORo4Repf_sh9",
        "outputId": "f5de6ad3-09c6-4b42-c5e1-37437b2ec5c9"
      },
      "execution_count": 6,
      "outputs": [
        {
          "output_type": "stream",
          "name": "stdout",
          "text": [
            "(1, 2, 3, 4.4, 'ntt')\n"
          ]
        }
      ]
    },
    {
      "cell_type": "code",
      "source": [
        "#Contructor Tuple in list\n",
        "t2=tuple([1,2,3,4.4,\"ntt\"])\n",
        "print (t2)"
      ],
      "metadata": {
        "colab": {
          "base_uri": "https://localhost:8080/"
        },
        "id": "A11Vi9X9Azcu",
        "outputId": "1819028a-b9c4-4107-fe19-a20058fa7b67"
      },
      "execution_count": 7,
      "outputs": [
        {
          "output_type": "stream",
          "name": "stdout",
          "text": [
            "(1, 2, 3, 4.4, 'ntt')\n"
          ]
        }
      ]
    },
    {
      "cell_type": "code",
      "source": [
        "#String Tuple\n",
        "t4=tuple((\"ntt\",\"str\"))\n",
        "print (t4)\n"
      ],
      "metadata": {
        "colab": {
          "base_uri": "https://localhost:8080/"
        },
        "id": "S6J6e-fSA8vU",
        "outputId": "bd5d7aa1-cc97-4776-c38e-cd10a3922ac3"
      },
      "execution_count": 11,
      "outputs": [
        {
          "output_type": "stream",
          "name": "stdout",
          "text": [
            "('ntt', 'str')\n"
          ]
        }
      ]
    },
    {
      "cell_type": "code",
      "source": [
        "t5=(15)\n",
        "print (t5)"
      ],
      "metadata": {
        "colab": {
          "base_uri": "https://localhost:8080/"
        },
        "id": "y8ncCcEVFlOv",
        "outputId": "3241b42f-4c70-4555-d64e-dc6335f7ee41"
      },
      "execution_count": 12,
      "outputs": [
        {
          "output_type": "stream",
          "name": "stdout",
          "text": [
            "15\n"
          ]
        }
      ]
    },
    {
      "cell_type": "code",
      "source": [
        "#Accessing Tuple\n",
        "t6=(10,203,30,34,45)\n",
        "print(t6[2])\n",
        "print(t6[2:4])\n",
        "print(t6[-4:-2:1])"
      ],
      "metadata": {
        "colab": {
          "base_uri": "https://localhost:8080/"
        },
        "id": "nK1TbvHJFySd",
        "outputId": "ee59622f-f128-4575-a9e1-f802770e0626"
      },
      "execution_count": 20,
      "outputs": [
        {
          "output_type": "stream",
          "name": "stdout",
          "text": [
            "30\n",
            "(30, 34)\n",
            "(203, 30)\n"
          ]
        }
      ]
    },
    {
      "cell_type": "code",
      "source": [
        "#If\n",
        "if 203 in t6:\n",
        "  print(\"yes\")\n",
        "else:\n",
        "    print(\"no\")"
      ],
      "metadata": {
        "colab": {
          "base_uri": "https://localhost:8080/"
        },
        "id": "mlPBXG92G0Uj",
        "outputId": "bea78d45-51de-46a6-f6f9-c54ebea27c8b"
      },
      "execution_count": 22,
      "outputs": [
        {
          "output_type": "stream",
          "name": "stdout",
          "text": [
            "yes\n"
          ]
        }
      ]
    },
    {
      "cell_type": "code",
      "source": [
        "#convert tuple into list, list to tuple\n",
        "t7=(10,203,30,34,45)\n",
        "t8=[t7]\n",
        "print(t8)\n",
        "print(type(t8))"
      ],
      "metadata": {
        "colab": {
          "base_uri": "https://localhost:8080/"
        },
        "id": "amNxOkzPHfDW",
        "outputId": "baa53b19-3531-4bd7-bc49-48572a8eec3d"
      },
      "execution_count": 25,
      "outputs": [
        {
          "output_type": "stream",
          "name": "stdout",
          "text": [
            "[(10, 203, 30, 34, 45)]\n",
            "<class 'list'>\n"
          ]
        }
      ]
    },
    {
      "cell_type": "code",
      "source": [
        "#Dictionary\n",
        "d1={\"name\":\"akash\",\"Roll\":1001,\"class\": 5}\n",
        "print(d1[\"Roll\"])\n",
        "print(len(d1))\n",
        "x=d1.keys()\n",
        "print(x)\n",
        "y=d1.values()\n",
        "print(y)\n",
        "z=d1.items()\n",
        "print(z)\n",
        "d1[\"name\"]=\"clara\"\n",
        "print(d1)"
      ],
      "metadata": {
        "colab": {
          "base_uri": "https://localhost:8080/"
        },
        "id": "-euejek7Ljaa",
        "outputId": "8acb06f6-74da-402f-f497-9e886141531e"
      },
      "execution_count": 33,
      "outputs": [
        {
          "output_type": "stream",
          "name": "stdout",
          "text": [
            "1001\n",
            "3\n",
            "dict_keys(['name', 'Roll', 'class'])\n",
            "dict_values(['akash', 1001, 5])\n",
            "dict_items([('name', 'akash'), ('Roll', 1001), ('class', 5)])\n",
            "{'name': 'clara', 'Roll': 1001, 'class': 5}\n"
          ]
        }
      ]
    },
    {
      "cell_type": "code",
      "source": [
        "#Numpy PAckage\n",
        "import numpy as np\n",
        "\n",
        "arr=np.array([1,2,3,4,5,6])\n",
        "print(arr)\n",
        "print(type(arr)) #type\n",
        "print(arr.ndim) #dimension\n",
        "print(arr.size) #size\n",
        "print(arr.shape) #Shape\n",
        "print(arr.dtype) #datatype\n"
      ],
      "metadata": {
        "colab": {
          "base_uri": "https://localhost:8080/"
        },
        "id": "INWDWnteQ9_C",
        "outputId": "1bdb2157-a5a0-4105-dc54-6d4d4353b0fa"
      },
      "execution_count": 37,
      "outputs": [
        {
          "output_type": "stream",
          "name": "stdout",
          "text": [
            "[1 2 3 4 5 6]\n",
            "<class 'numpy.ndarray'>\n",
            "1\n",
            "6\n",
            "(6,)\n",
            "int64\n"
          ]
        }
      ]
    },
    {
      "cell_type": "code",
      "source": [
        "arr2= np.array([[1,2,3,4],[7,9,9,10]])\n",
        "print(arr2)\n",
        "arr3=np.array([[[1,2,3],[4,5,6]],[[7,8,9],[10,11,12]]])\n",
        "print(arr3)\n",
        "print(arr3.ndim)"
      ],
      "metadata": {
        "colab": {
          "base_uri": "https://localhost:8080/"
        },
        "id": "uyvbfEc5S1tj",
        "outputId": "5dacaecd-30d6-4a5c-e43f-8917237a73eb"
      },
      "execution_count": 40,
      "outputs": [
        {
          "output_type": "stream",
          "name": "stdout",
          "text": [
            "[[ 1  2  3  4]\n",
            " [ 7  9  9 10]]\n",
            "[[[ 1  2  3]\n",
            "  [ 4  5  6]]\n",
            "\n",
            " [[ 7  8  9]\n",
            "  [10 11 12]]]\n",
            "3\n"
          ]
        }
      ]
    }
  ]
}