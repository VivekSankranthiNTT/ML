{
  "nbformat": 4,
  "nbformat_minor": 0,
  "metadata": {
    "colab": {
      "provenance": []
    },
    "kernelspec": {
      "name": "python3",
      "display_name": "Python 3"
    },
    "language_info": {
      "name": "python"
    }
  },
  "cells": [
    {
      "cell_type": "code",
      "execution_count": 2,
      "metadata": {
        "colab": {
          "base_uri": "https://localhost:8080/"
        },
        "id": "WBAgvCnxpRIK",
        "outputId": "c4a143ac-f52e-4e25-ba3e-188e8f991079"
      },
      "outputs": [
        {
          "output_type": "stream",
          "name": "stdout",
          "text": [
            "[10, 20, 30]\n"
          ]
        }
      ],
      "source": [
        "#List Introduction\n",
        "l=[10,20,30]\n",
        "print(l)"
      ]
    },
    {
      "cell_type": "code",
      "source": [
        "print(type(l))\n",
        "#check type"
      ],
      "metadata": {
        "id": "DipEaZuPsfh2",
        "outputId": "2ef3917c-b05a-4f14-ea63-ff401cfdf4b9",
        "colab": {
          "base_uri": "https://localhost:8080/"
        }
      },
      "execution_count": 3,
      "outputs": [
        {
          "output_type": "stream",
          "name": "stdout",
          "text": [
            "<class 'list'>\n"
          ]
        }
      ]
    },
    {
      "cell_type": "code",
      "source": [
        "#Heterogenous\n",
        "l2=[10, 12.2, \"NTT\"]\n",
        "print(l2)"
      ],
      "metadata": {
        "id": "ADHVEJ4ptHu7",
        "outputId": "bd494ba1-aac6-4b4f-8c72-0ceb879f29a2",
        "colab": {
          "base_uri": "https://localhost:8080/"
        }
      },
      "execution_count": 5,
      "outputs": [
        {
          "output_type": "stream",
          "name": "stdout",
          "text": [
            "[10, 12.2, 'NTT']\n"
          ]
        }
      ]
    },
    {
      "cell_type": "code",
      "source": [
        "#Length of List\n",
        "print(len(l2))"
      ],
      "metadata": {
        "id": "uN8FidS1tadt",
        "outputId": "0dbb4c6a-8eb0-44d5-b820-27c62bd30030",
        "colab": {
          "base_uri": "https://localhost:8080/"
        }
      },
      "execution_count": 6,
      "outputs": [
        {
          "output_type": "stream",
          "name": "stdout",
          "text": [
            "3\n"
          ]
        }
      ]
    },
    {
      "cell_type": "code",
      "source": [
        "#list using constructor List()\n",
        "l3=list((10,20,3.33))\n",
        "print(l3)\n",
        "\n"
      ],
      "metadata": {
        "id": "h6k9oFlNuhiJ",
        "outputId": "d203e03d-b462-476c-8785-0e39a59da834",
        "colab": {
          "base_uri": "https://localhost:8080/"
        }
      },
      "execution_count": 7,
      "outputs": [
        {
          "output_type": "stream",
          "name": "stdout",
          "text": [
            "[10, 20, 3.33]\n"
          ]
        }
      ]
    },
    {
      "cell_type": "code",
      "source": [
        "#Acess Values of List and positive indexing and Negative Indexing\n",
        "print(l3[0])\n",
        "print(l3[-1])"
      ],
      "metadata": {
        "id": "lpDtolQTvSUe",
        "outputId": "5816462f-fa7e-455b-ea27-2e540c3a85c6",
        "colab": {
          "base_uri": "https://localhost:8080/"
        }
      },
      "execution_count": 9,
      "outputs": [
        {
          "output_type": "stream",
          "name": "stdout",
          "text": [
            "10\n",
            "3.33\n"
          ]
        }
      ]
    },
    {
      "cell_type": "code",
      "source": [
        "#Range of Index\n",
        "R=[12,13,14,15,16,17,18,19,20]\n",
        "print(R[0:5])\n",
        "print(R[7:8])"
      ],
      "metadata": {
        "id": "pBl9vhfOxDyM",
        "outputId": "4b9343c4-2820-41c1-a82b-18e739c8bee6",
        "colab": {
          "base_uri": "https://localhost:8080/"
        }
      },
      "execution_count": 12,
      "outputs": [
        {
          "output_type": "stream",
          "name": "stdout",
          "text": [
            "[12, 13, 14, 15, 16]\n",
            "[19]\n"
          ]
        }
      ]
    },
    {
      "cell_type": "code",
      "source": [
        "#range with Stepsize\n",
        "S=[1,2,3,4,5,6,7,7,8,9]\n",
        "print(S[0:8:3])"
      ],
      "metadata": {
        "id": "dqnm_QPY0eXn",
        "outputId": "f4b094fe-b7e6-49e9-ff8b-41ed09c7090e",
        "colab": {
          "base_uri": "https://localhost:8080/"
        }
      },
      "execution_count": 13,
      "outputs": [
        {
          "output_type": "stream",
          "name": "stdout",
          "text": [
            "[1, 4, 7]\n"
          ]
        }
      ]
    },
    {
      "cell_type": "code",
      "source": [
        "#optional Range\n",
        "O=[1,2,3,4,5,6,7,8,9]\n",
        "print(O[::-1])\n",
        "print(O[::])"
      ],
      "metadata": {
        "id": "zQF5X-EA148u",
        "outputId": "4d8b8340-9eef-42c8-f6ff-9d0d1130f0b2",
        "colab": {
          "base_uri": "https://localhost:8080/"
        }
      },
      "execution_count": 15,
      "outputs": [
        {
          "output_type": "stream",
          "name": "stdout",
          "text": [
            "[9, 8, 7, 6, 5, 4, 3, 2, 1]\n",
            "[1, 2, 3, 4, 5, 6, 7, 8, 9]\n"
          ]
        }
      ]
    },
    {
      "cell_type": "code",
      "source": [
        "#Replace values\n",
        "R=[1, 2, 3, 4, 5, 6, 7, 8, 9]\n",
        "print(R[::])\n",
        "R[1:4]=[\"a\",10,20]\n",
        "print(R[::])"
      ],
      "metadata": {
        "id": "2h28_hyp3bPW",
        "outputId": "85509fbd-d073-468b-b62b-4e2ddb4477ae",
        "colab": {
          "base_uri": "https://localhost:8080/"
        }
      },
      "execution_count": 18,
      "outputs": [
        {
          "output_type": "stream",
          "name": "stdout",
          "text": [
            "[1, 2, 3, 4, 5, 6, 7, 8, 9]\n",
            "[1, 'a', 10, 20, 5, 6, 7, 8, 9]\n"
          ]
        }
      ]
    },
    {
      "cell_type": "code",
      "source": [
        "# Append to existing List\n",
        "R=[1, 2, 3, 4, 5, 6, 7, 8, 9]\n",
        "R.append(20)\n",
        "print(R)\n"
      ],
      "metadata": {
        "id": "FYDY_d2a83QZ",
        "outputId": "975ba66c-6124-426b-c9c2-db85e5d10eea",
        "colab": {
          "base_uri": "https://localhost:8080/"
        }
      },
      "execution_count": 21,
      "outputs": [
        {
          "output_type": "stream",
          "name": "stdout",
          "text": [
            "[1, 2, 3, 4, 5, 6, 7, 8, 9, 20]\n"
          ]
        }
      ]
    },
    {
      "cell_type": "code",
      "source": [
        "#Inser in particular position\n",
        "R=[1, 2, 3, 4, 5, 6, 7, 8, 9]\n",
        "R.insert(3,20)\n",
        "print(R)"
      ],
      "metadata": {
        "id": "rL_4MS9B9UFc",
        "outputId": "6556a393-2c0c-4661-c911-edee7f411c4c",
        "colab": {
          "base_uri": "https://localhost:8080/"
        }
      },
      "execution_count": 22,
      "outputs": [
        {
          "output_type": "stream",
          "name": "stdout",
          "text": [
            "[1, 2, 3, 20, 4, 5, 6, 7, 8, 9]\n"
          ]
        }
      ]
    },
    {
      "cell_type": "code",
      "source": [
        "#Extend List\n",
        "R=[1,2,3,4]\n",
        "S=[5,6,7]\n",
        "R.extend(S)\n",
        "print(R)"
      ],
      "metadata": {
        "id": "GVrbK5uP9smG",
        "outputId": "e46f7fdb-dec4-4288-e2ec-fc508e32b40c",
        "colab": {
          "base_uri": "https://localhost:8080/"
        }
      },
      "execution_count": 23,
      "outputs": [
        {
          "output_type": "stream",
          "name": "stdout",
          "text": [
            "[1, 2, 3, 4, 5, 6, 7]\n"
          ]
        }
      ]
    },
    {
      "cell_type": "code",
      "source": [
        "#Remove Element from List\n",
        "R=[1, 2, 3, 4, 5, 6, 7, 8, 9]\n",
        "R.remove(8)\n",
        "print(R)\n"
      ],
      "metadata": {
        "id": "MgqMuHTR-zVl",
        "outputId": "b203823a-6996-42ff-f589-57f321417d05",
        "colab": {
          "base_uri": "https://localhost:8080/"
        }
      },
      "execution_count": 24,
      "outputs": [
        {
          "output_type": "stream",
          "name": "stdout",
          "text": [
            "[1, 2, 3, 4, 5, 6, 7, 9]\n"
          ]
        }
      ]
    },
    {
      "cell_type": "code",
      "source": [
        "#Remove Last value of List\n",
        "R=[1, 2, 3, 4, 5, 6, 7, 8, 9]\n",
        "R.pop()\n",
        "print(R)\n"
      ],
      "metadata": {
        "id": "68J3eUlI_J0t",
        "outputId": "d90232c7-d1e1-440c-d2e0-c321d4b4c4b6",
        "colab": {
          "base_uri": "https://localhost:8080/"
        }
      },
      "execution_count": 25,
      "outputs": [
        {
          "output_type": "stream",
          "name": "stdout",
          "text": [
            "[1, 2, 3, 4, 5, 6, 7, 8]\n"
          ]
        }
      ]
    },
    {
      "cell_type": "code",
      "source": [
        "#Delete a List\n",
        "R=[1, 2, 3, 4, 5, 6, 7, 8, 9]\n",
        "del R\n",
        "R=[1, 2, 3, 4, 5, 6, 7, 8, 9]\n",
        "del R[4]\n",
        "print(R)\n",
        "\n",
        "\n"
      ],
      "metadata": {
        "id": "tAUGd-uh_SHQ",
        "outputId": "76e06890-f17d-4ab5-93c4-2243ead2ca10",
        "colab": {
          "base_uri": "https://localhost:8080/"
        }
      },
      "execution_count": 27,
      "outputs": [
        {
          "output_type": "stream",
          "name": "stdout",
          "text": [
            "[1, 2, 3, 4, 6, 7, 8, 9]\n"
          ]
        }
      ]
    },
    {
      "cell_type": "code",
      "source": [
        "#how to clear List\n",
        "R=[1, 2, 3, 4, 5, 6, 7, 8, 9]\n",
        "R.clear()\n",
        "print(R)"
      ],
      "metadata": {
        "id": "cb_JXjH6_5hS",
        "outputId": "64c214a4-fbaa-47c6-bd5f-c532a2f28c99",
        "colab": {
          "base_uri": "https://localhost:8080/"
        }
      },
      "execution_count": 31,
      "outputs": [
        {
          "output_type": "stream",
          "name": "stdout",
          "text": [
            "[]\n"
          ]
        }
      ]
    },
    {
      "cell_type": "code",
      "source": [
        "# For Loop\n",
        "R=[1, 2, 3, 4, 5, 6, 7, 8, 9]\n",
        "for i in R:\n",
        " print(i)\n",
        " print(i+5)\n"
      ],
      "metadata": {
        "id": "owsHmPSEAyJi",
        "outputId": "f673e24b-2dd7-4cea-8dab-970ef22cb5d1",
        "colab": {
          "base_uri": "https://localhost:8080/"
        }
      },
      "execution_count": 35,
      "outputs": [
        {
          "output_type": "stream",
          "name": "stdout",
          "text": [
            "1\n",
            "6\n",
            "2\n",
            "7\n",
            "3\n",
            "8\n",
            "4\n",
            "9\n",
            "5\n",
            "10\n",
            "6\n",
            "11\n",
            "7\n",
            "12\n",
            "8\n",
            "13\n",
            "9\n",
            "14\n"
          ]
        }
      ]
    }
  ]
}